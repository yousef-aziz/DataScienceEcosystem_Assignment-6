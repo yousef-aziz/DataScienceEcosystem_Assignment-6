{
 "cells": [
  {
   "cell_type": "markdown",
   "id": "08cafaf5",
   "metadata": {},
   "source": [
    "# Data Science Tools and Ecosystem"
   ]
  },
  {
   "cell_type": "markdown",
   "id": "2e07b59c",
   "metadata": {},
   "source": [
    "## In this notebook, Data Science Tools and Ecosystem are summarized."
   ]
  },
  {
   "cell_type": "markdown",
   "id": "7eb35513",
   "metadata": {},
   "source": [
    "**Objectives:**\n",
    "\n",
    "* List popular programming languages for Data Science.\n",
    "* Explain the purpose of key Python libraries used by Data Scientists.\n",
    "* Demonstrate how to create and manipulate lists in Python.\n",
    "* Provide an overview of Markdown formatting in Jupyter notebooks."
   ]
  },
  {
   "cell_type": "markdown",
   "id": "62ca3e72",
   "metadata": {},
   "source": [
    "## Auther\n",
    "Youssef Salah Zaki Ahmed Abdelaziz"
   ]
  },
  {
   "cell_type": "markdown",
   "id": "3f9d06f5",
   "metadata": {},
   "source": [
    "### Some of the popular languages that Data Scientists use are:"
   ]
  },
  {
   "cell_type": "code",
   "execution_count": 10,
   "id": "aaa9f8a1",
   "metadata": {},
   "outputs": [
    {
     "name": "stdout",
     "output_type": "stream",
     "text": [
      "['Python', 'R', 'SQL', 'JavaScript', 'C/C++', 'Java', 'Scala', 'Julia']\n"
     ]
    }
   ],
   "source": [
    "lang_list = [\"Python\", \"R\", \"SQL\", \"JavaScript\", \"C/C++\", \"Java\", \"Scala\", \"Julia\"]\n",
    "print(lang_list)"
   ]
  },
  {
   "cell_type": "markdown",
   "id": "3074bd0f",
   "metadata": {},
   "source": [
    "### Some of the commonly used libraries used by Data Scientists include:"
   ]
  },
  {
   "cell_type": "code",
   "execution_count": 11,
   "id": "c2daa44e",
   "metadata": {},
   "outputs": [
    {
     "name": "stdout",
     "output_type": "stream",
     "text": [
      "['NumPy', 'Pandas', 'Matplotlib', 'Scikit-Learn', 'Scipy']\n"
     ]
    }
   ],
   "source": [
    "lib_list = [\"NumPy\", \"Pandas\", \"Matplotlib\", \"Scikit-Learn\", \"Scipy\"]\n",
    "print(lib_list)"
   ]
  },
  {
   "cell_type": "markdown",
   "id": "14359394",
   "metadata": {},
   "source": [
    "| Data Science Tools |\n",
    "|:---------:|\n",
    "| Pandas    |\n",
    "| NumPy     |\n",
    "| Matplotlib|"
   ]
  },
  {
   "cell_type": "markdown",
   "id": "53bf6f17",
   "metadata": {},
   "source": [
    "### Below are a few examples of evaluating arithmetic expressions in Python"
   ]
  },
  {
   "cell_type": "code",
   "execution_count": 13,
   "id": "823c5ffb",
   "metadata": {},
   "outputs": [
    {
     "name": "stdout",
     "output_type": "stream",
     "text": [
      "17\n"
     ]
    }
   ],
   "source": [
    "# This a simple arithmetic expression to mutiply then add integers\n",
    "Test = (3*4) + 5\n",
    "print(Test)"
   ]
  },
  {
   "cell_type": "code",
   "execution_count": 14,
   "id": "e0e8ead0",
   "metadata": {},
   "outputs": [
    {
     "name": "stdout",
     "output_type": "stream",
     "text": [
      "3.3333333333333335\n"
     ]
    }
   ],
   "source": [
    "# This will convert 200 minutes to hours by diving by 60\n",
    "min_to_hours = 200/60\n",
    "print(min_to_hours)"
   ]
  },
  {
   "cell_type": "code",
   "execution_count": null,
   "id": "6282d687",
   "metadata": {},
   "outputs": [],
   "source": []
  }
 ],
 "metadata": {
  "kernelspec": {
   "display_name": "Python 3 (ipykernel)",
   "language": "python",
   "name": "python3"
  },
  "language_info": {
   "codemirror_mode": {
    "name": "ipython",
    "version": 3
   },
   "file_extension": ".py",
   "mimetype": "text/x-python",
   "name": "python",
   "nbconvert_exporter": "python",
   "pygments_lexer": "ipython3",
   "version": "3.9.7"
  }
 },
 "nbformat": 4,
 "nbformat_minor": 5
}
